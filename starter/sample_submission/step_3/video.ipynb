{
 "cells": [
  {
   "cell_type": "code",
   "execution_count": 39,
   "outputs": [],
   "source": [
    "import os.path\n",
    "\n",
    "from video_indexer import VideoIndexer\n"
   ],
   "metadata": {
    "collapsed": false,
    "ExecuteTime": {
     "end_time": "2025-02-19T11:06:33.870470Z",
     "start_time": "2025-02-19T11:06:33.859496Z"
    }
   }
  },
  {
   "cell_type": "code",
   "execution_count": 13,
   "outputs": [],
   "source": [
    "key = '0a1c60df3d504fecb4da1c4c2bb3a58d'\n",
    "location = 'trial'\n",
    "account_id = '41ebf29d-b736-4769-b64b-2e256097c28b'"
   ],
   "metadata": {
    "collapsed": false,
    "ExecuteTime": {
     "end_time": "2025-02-19T10:43:30.325344Z",
     "start_time": "2025-02-19T10:43:30.267167Z"
    }
   }
  },
  {
   "cell_type": "code",
   "execution_count": 14,
   "outputs": [],
   "source": [
    "video_analysis = VideoIndexer(\n",
    "    vi_subscription_key=key,\n",
    "    vi_location=location,\n",
    "    vi_account_id=account_id\n",
    ")"
   ],
   "metadata": {
    "collapsed": false,
    "ExecuteTime": {
     "end_time": "2025-02-19T10:43:30.996565Z",
     "start_time": "2025-02-19T10:43:30.987832Z"
    }
   }
  },
  {
   "cell_type": "code",
   "execution_count": 25,
   "outputs": [
    {
     "name": "stdout",
     "output_type": "stream",
     "text": [
      "Uploading video to video indexer...\n"
     ]
    }
   ],
   "source": [
    "video_id = video_analysis.upload_to_video_indexer(video_name='kiosk_recording', input_filename='../../digital-video-sample/avkash-boarding-pass.mp4')"
   ],
   "metadata": {
    "collapsed": false,
    "ExecuteTime": {
     "end_time": "2025-02-19T10:49:50.076993Z",
     "start_time": "2025-02-19T10:49:46.092041Z"
    }
   }
  },
  {
   "cell_type": "code",
   "execution_count": 31,
   "outputs": [
    {
     "name": "stdout",
     "output_type": "stream",
     "text": [
      "Getting video info for: mi0tp1p43m\n"
     ]
    }
   ],
   "source": [
    "info = video_analysis.get_video_info(video_id)"
   ],
   "metadata": {
    "collapsed": false,
    "ExecuteTime": {
     "end_time": "2025-02-19T10:52:27.462998Z",
     "start_time": "2025-02-19T10:52:26.729308Z"
    }
   }
  },
  {
   "cell_type": "code",
   "execution_count": 32,
   "outputs": [
    {
     "data": {
      "text/plain": "{'partition': None,\n 'description': None,\n 'privacyMode': 'Private',\n 'state': 'Processed',\n 'accountId': '41ebf29d-b736-4769-b64b-2e256097c28b',\n 'id': 'mi0tp1p43m',\n 'name': 'avkash-boarding-pass',\n 'userName': 'ODL_User 272925',\n 'created': '2025-02-19T09:39:53.8366667+00:00',\n 'isOwned': True,\n 'isEditable': True,\n 'isBase': True,\n 'durationInSeconds': 26,\n 'duration': '0:00:26.634',\n 'summarizedInsights': {'name': 'avkash-boarding-pass',\n  'id': 'mi0tp1p43m',\n  'privacyMode': 'Private',\n  'duration': {'time': '0:00:26.634', 'seconds': 26.6},\n  'thumbnailVideoId': 'mi0tp1p43m',\n  'thumbnailId': '7c5f82e3-ea36-4728-a848-9ccdfc106b0a',\n  'faces': [],\n  'keywords': [{'isTranscript': True,\n    'id': 1,\n    'name': 'boarding',\n    'appearances': [{'startTime': '0:00:12.44',\n      'endTime': '0:00:13.44',\n      'startSeconds': 12.4,\n      'endSeconds': 13.4},\n     {'startTime': '0:00:20.88',\n      'endTime': '0:00:21.76',\n      'startSeconds': 20.9,\n      'endSeconds': 21.8}]},\n   {'isTranscript': True,\n    'id': 2,\n    'name': 'pass',\n    'appearances': [{'startTime': '0:00:12.44',\n      'endTime': '0:00:13.44',\n      'startSeconds': 12.4,\n      'endSeconds': 13.4},\n     {'startTime': '0:00:21.76',\n      'endTime': '0:00:22.24',\n      'startSeconds': 21.8,\n      'endSeconds': 22.2}]}],\n  'sentiments': [{'sentimentKey': 'Neutral',\n    'seenDurationRatio': 0.9987,\n    'appearances': [{'startTime': '0:00:00',\n      'endTime': '0:00:26.634',\n      'startSeconds': 0,\n      'endSeconds': 26.6}]},\n   {'sentimentKey': 'Negative',\n    'seenDurationRatio': 0.0713,\n    'appearances': [{'startTime': '0:00:07.72',\n      'endTime': '0:00:09.6',\n      'startSeconds': 7.7,\n      'endSeconds': 9.6}]}],\n  'emotions': [{'type': 'Anger',\n    'seenDurationRatio': 0.0713,\n    'appearances': [{'startTime': '0:00:07.72',\n      'endTime': '0:00:09.6',\n      'startSeconds': 7.7,\n      'endSeconds': 9.6}]}],\n  'audioEffects': [{'audioEffectKey': 'Silence',\n    'seenDurationRatio': 0.1314,\n    'seenDuration': 3.5,\n    'appearances': [{'confidence': 0.8294,\n      'startTime': '0:00:00',\n      'endTime': '0:00:01.5',\n      'startSeconds': 0,\n      'endSeconds': 1.5},\n     {'confidence': 0.8229,\n      'startTime': '0:00:06.02',\n      'endTime': '0:00:07.02',\n      'startSeconds': 6,\n      'endSeconds': 7},\n     {'confidence': 0.7832,\n      'startTime': '0:00:18.58',\n      'endTime': '0:00:19.58',\n      'startSeconds': 18.6,\n      'endSeconds': 19.6}]}],\n  'labels': [{'id': 1,\n    'name': 'wall',\n    'appearances': [{'confidence': 0.9923,\n      'startTime': '0:00:00',\n      'endTime': '0:00:26.1660778',\n      'startSeconds': 0,\n      'endSeconds': 26.2}]},\n   {'id': 2,\n    'name': 'human face',\n    'appearances': [{'confidence': 0.9927,\n      'startTime': '0:00:00',\n      'endTime': '0:00:26.1660778',\n      'startSeconds': 0,\n      'endSeconds': 26.2}]},\n   {'id': 3,\n    'name': 'person',\n    'appearances': [{'confidence': 0.9906,\n      'startTime': '0:00:00',\n      'endTime': '0:00:26.1660778',\n      'startSeconds': 0,\n      'endSeconds': 26.2}]},\n   {'id': 4,\n    'name': 'indoor',\n    'appearances': [{'confidence': 0.9875,\n      'startTime': '0:00:00',\n      'endTime': '0:00:26.1660778',\n      'startSeconds': 0,\n      'endSeconds': 26.2}]}],\n  'framePatterns': [],\n  'brands': [],\n  'namedLocations': [{'referenceId': None,\n    'referenceUrl': None,\n    'confidence': 0.82,\n    'description': None,\n    'seenDuration': 0.8,\n    'id': 1,\n    'name': 'Kiosk',\n    'appearances': [{'startTime': '0:00:04.72',\n      'endTime': '0:00:05.52',\n      'startSeconds': 4.7,\n      'endSeconds': 5.5}]}],\n  'namedPeople': [],\n  'statistics': {'correspondenceCount': 14,\n   'speakerTalkToListenRatio': {'1': 0.145,\n    '2': 0.257,\n    '3': 0.138,\n    '4': 0.112,\n    '5': 0.233,\n    '6': 0.112},\n   'speakerLongestMonolog': {'1': 1, '2': 2, '3': 1, '4': 1, '5': 2, '6': 1},\n   'speakerNumberOfFragments': {'1': 2,\n    '2': 4,\n    '3': 3,\n    '4': 1,\n    '5': 3,\n    '6': 2},\n   'speakerWordCount': {'1': 6, '2': 13, '3': 6, '4': 6, '5': 7, '6': 7}},\n  'topics': [{'referenceUrl': None,\n    'iptcName': 'science and technology',\n    'iabName': 'Education',\n    'confidence': 0.8089,\n    'id': 1,\n    'name': 'Education/Technology',\n    'appearances': [{'startTime': '0:00:00.68',\n      'endTime': '0:00:24.72',\n      'startSeconds': 0.7,\n      'endSeconds': 24.7}]}]},\n 'videos': [{'accountId': '41ebf29d-b736-4769-b64b-2e256097c28b',\n   'id': 'mi0tp1p43m',\n   'state': 'Processed',\n   'moderationState': 'OK',\n   'reviewState': 'None',\n   'privacyMode': 'Private',\n   'processingProgress': '100%',\n   'failureMessage': '',\n   'externalId': None,\n   'externalUrl': None,\n   'metadata': None,\n   'insights': {'version': '1.0.0.0',\n    'duration': '0:00:26.634',\n    'sourceLanguage': 'en-US',\n    'sourceLanguages': ['en-US'],\n    'language': 'en-US',\n    'languages': ['en-US'],\n    'transcript': [{'id': 1,\n      'text': 'So this is the video.',\n      'confidence': 0.8262,\n      'speakerId': 1,\n      'language': 'en-US',\n      'instances': [{'adjustedStart': '0:00:00.68',\n        'adjustedEnd': '0:00:02.32',\n        'start': '0:00:00.68',\n        'end': '0:00:02.32'}]},\n     {'id': 2,\n      'text': 'Where I am standing in front of the.',\n      'confidence': 0.8972,\n      'speakerId': 2,\n      'language': 'en-US',\n      'instances': [{'adjustedStart': '0:00:02.52',\n        'adjustedEnd': '0:00:04.72',\n        'start': '0:00:02.52',\n        'end': '0:00:04.72'}]},\n     {'id': 3,\n      'text': 'Kiosk.',\n      'confidence': 0.7002,\n      'speakerId': 1,\n      'language': 'en-US',\n      'instances': [{'adjustedStart': '0:00:04.72',\n        'adjustedEnd': '0:00:05.52',\n        'start': '0:00:04.72',\n        'end': '0:00:05.52'}]},\n     {'id': 4,\n      'text': 'And I am pressing.',\n      'confidence': 0.7962,\n      'speakerId': 3,\n      'language': 'en-US',\n      'instances': [{'adjustedStart': '0:00:06.04',\n        'adjustedEnd': '0:00:07.32',\n        'start': '0:00:06.04',\n        'end': '0:00:07.32'}]},\n     {'id': 5,\n      'text': 'Few.',\n      'confidence': 0.5469,\n      'speakerId': 2,\n      'language': 'en-US',\n      'instances': [{'adjustedStart': '0:00:07.52',\n        'adjustedEnd': '0:00:07.72',\n        'start': '0:00:07.52',\n        'end': '0:00:07.72'}]},\n     {'id': 6,\n      'text': 'Buttons and I am insulting my.',\n      'confidence': 0.6844,\n      'speakerId': 4,\n      'language': 'en-US',\n      'instances': [{'adjustedStart': '0:00:07.72',\n        'adjustedEnd': '0:00:09.6',\n        'start': '0:00:07.72',\n        'end': '0:00:09.6'}]},\n     {'id': 7,\n      'text': 'Digital.',\n      'confidence': 0.8805,\n      'speakerId': 5,\n      'language': 'en-US',\n      'instances': [{'adjustedStart': '0:00:11.56',\n        'adjustedEnd': '0:00:12.12',\n        'start': '0:00:11.56',\n        'end': '0:00:12.12'}]},\n     {'id': 8,\n      'text': 'Boarding pass.',\n      'confidence': 0.8402,\n      'speakerId': 2,\n      'language': 'en-US',\n      'instances': [{'adjustedStart': '0:00:12.44',\n        'adjustedEnd': '0:00:13.44',\n        'start': '0:00:12.44',\n        'end': '0:00:13.44'}]},\n     {'id': 9,\n      'text': 'And.',\n      'confidence': 0.9535,\n      'speakerId': 3,\n      'language': 'en-US',\n      'instances': [{'adjustedStart': '0:00:13.64',\n        'adjustedEnd': '0:00:14.2',\n        'start': '0:00:13.64',\n        'end': '0:00:14.2'}]},\n     {'id': 10,\n      'text': 'The instructions are there.',\n      'confidence': 0.8519,\n      'speakerId': 5,\n      'language': 'en-US',\n      'instances': [{'adjustedStart': '0:00:15.6',\n        'adjustedEnd': '0:00:18.08',\n        'start': '0:00:15.6',\n        'end': '0:00:18.08'}]},\n     {'id': 11,\n      'text': 'And.',\n      'confidence': 0.9392,\n      'speakerId': 6,\n      'language': 'en-US',\n      'instances': [{'adjustedStart': '0:00:19',\n        'adjustedEnd': '0:00:19.56',\n        'start': '0:00:19',\n        'end': '0:00:19.56'}]},\n     {'id': 12,\n      'text': 'The boarding.',\n      'confidence': 0.7739,\n      'speakerId': 5,\n      'language': 'en-US',\n      'instances': [{'adjustedStart': '0:00:20.88',\n        'adjustedEnd': '0:00:21.76',\n        'start': '0:00:20.88',\n        'end': '0:00:21.76'}]},\n     {'id': 13,\n      'text': 'Pass.',\n      'confidence': 0.9556,\n      'speakerId': 3,\n      'language': 'en-US',\n      'instances': [{'adjustedStart': '0:00:21.76',\n        'adjustedEnd': '0:00:22.24',\n        'start': '0:00:21.76',\n        'end': '0:00:22.24'}]},\n     {'id': 14,\n      'text': 'Is accepted.',\n      'confidence': 0.9156,\n      'speakerId': 2,\n      'language': 'en-US',\n      'instances': [{'adjustedStart': '0:00:22.24',\n        'adjustedEnd': '0:00:23.16',\n        'start': '0:00:22.24',\n        'end': '0:00:23.16'}]},\n     {'id': 15,\n      'text': 'And I am good to go.',\n      'confidence': 0.8127,\n      'speakerId': 6,\n      'language': 'en-US',\n      'instances': [{'adjustedStart': '0:00:23.4',\n        'adjustedEnd': '0:00:24.72',\n        'start': '0:00:23.4',\n        'end': '0:00:24.72'}]}],\n    'keywords': [{'id': 1,\n      'text': 'boarding',\n      'confidence': 0.7217,\n      'language': 'en-US',\n      'instances': [{'adjustedStart': '0:00:12.44',\n        'adjustedEnd': '0:00:13.44',\n        'start': '0:00:12.44',\n        'end': '0:00:13.44'},\n       {'adjustedStart': '0:00:20.88',\n        'adjustedEnd': '0:00:21.76',\n        'start': '0:00:20.88',\n        'end': '0:00:21.76'}]},\n     {'id': 2,\n      'text': 'pass',\n      'confidence': 0.7217,\n      'language': 'en-US',\n      'instances': [{'adjustedStart': '0:00:12.44',\n        'adjustedEnd': '0:00:13.44',\n        'start': '0:00:12.44',\n        'end': '0:00:13.44'},\n       {'adjustedStart': '0:00:21.76',\n        'adjustedEnd': '0:00:22.24',\n        'start': '0:00:21.76',\n        'end': '0:00:22.24'}]}],\n    'topics': [{'id': 1,\n      'name': 'Technology',\n      'referenceId': 'Education/Technology',\n      'referenceType': 'VideoIndexer',\n      'iptcName': 'science and technology',\n      'confidence': 0.8089,\n      'iabName': 'Education',\n      'language': 'en-US',\n      'instances': [{'adjustedStart': '0:00:00.68',\n        'adjustedEnd': '0:00:24.72',\n        'start': '0:00:00.68',\n        'end': '0:00:24.72'}]}],\n    'labels': [{'id': 1,\n      'name': 'wall',\n      'referenceId': 'structure/wall',\n      'language': 'en-US',\n      'instances': [{'confidence': 0.9937,\n        'adjustedStart': '0:00:00',\n        'adjustedEnd': '0:00:00.0334778',\n        'start': '0:00:00',\n        'end': '0:00:00.0334778'},\n       {'confidence': 0.9923,\n        'adjustedStart': '0:00:01.1044556',\n        'adjustedEnd': '0:00:26.1660778',\n        'start': '0:00:01.1044556',\n        'end': '0:00:26.1660778'}]},\n     {'id': 2,\n      'name': 'human face',\n      'language': 'en-US',\n      'instances': [{'confidence': 0.9913,\n        'adjustedStart': '0:00:00',\n        'adjustedEnd': '0:00:00.0334778',\n        'start': '0:00:00',\n        'end': '0:00:00.0334778'},\n       {'confidence': 0.9927,\n        'adjustedStart': '0:00:01.1044556',\n        'adjustedEnd': '0:00:26.1660778',\n        'start': '0:00:01.1044556',\n        'end': '0:00:26.1660778'}]},\n     {'id': 3,\n      'name': 'person',\n      'referenceId': 'person',\n      'language': 'en-US',\n      'instances': [{'confidence': 0.9906,\n        'adjustedStart': '0:00:00',\n        'adjustedEnd': '0:00:00.0334778',\n        'start': '0:00:00',\n        'end': '0:00:00.0334778'},\n       {'confidence': 0.9906,\n        'adjustedStart': '0:00:01.1044556',\n        'adjustedEnd': '0:00:26.1660778',\n        'start': '0:00:01.1044556',\n        'end': '0:00:26.1660778'}]},\n     {'id': 4,\n      'name': 'indoor',\n      'language': 'en-US',\n      'instances': [{'confidence': 0.9894,\n        'adjustedStart': '0:00:00',\n        'adjustedEnd': '0:00:00.0334778',\n        'start': '0:00:00',\n        'end': '0:00:00.0334778'},\n       {'confidence': 0.9875,\n        'adjustedStart': '0:00:01.1044556',\n        'adjustedEnd': '0:00:26.1660778',\n        'start': '0:00:01.1044556',\n        'end': '0:00:26.1660778'}]}],\n    'scenes': [{'id': 1,\n      'instances': [{'adjustedStart': '0:00:00',\n        'adjustedEnd': '0:00:26.4998556',\n        'start': '0:00:00',\n        'end': '0:00:26.4998556'}]}],\n    'shots': [{'id': 1,\n      'keyFrames': [{'id': 1,\n        'instances': [{'thumbnailId': '3b1ddb85-d87b-454b-a3cb-c85226873271',\n          'adjustedStart': '0:00:00.2672778',\n          'adjustedEnd': '0:00:00.3007667',\n          'start': '0:00:00.2672778',\n          'end': '0:00:00.3007667'}]},\n       {'id': 2,\n        'instances': [{'thumbnailId': '4f50b4db-92cf-4dfd-8cd8-7d9c8d75dceb',\n          'adjustedStart': '0:00:00.3342556',\n          'adjustedEnd': '0:00:00.3677333',\n          'start': '0:00:00.3342556',\n          'end': '0:00:00.3677333'}]}],\n      'instances': [{'adjustedStart': '0:00:00',\n        'adjustedEnd': '0:00:26.4998556',\n        'start': '0:00:00',\n        'end': '0:00:26.4998556'}]}],\n    'namedLocations': [{'id': 1,\n      'name': 'Kiosk',\n      'referenceId': None,\n      'referenceUrl': None,\n      'description': None,\n      'tags': [],\n      'confidence': 0.82,\n      'isCustom': False,\n      'instances': [{'instanceSource': 'Transcript',\n        'adjustedStart': '0:00:04.72',\n        'adjustedEnd': '0:00:05.52',\n        'start': '0:00:04.72',\n        'end': '0:00:05.52'}]}],\n    'audioEffects': [{'id': 0,\n      'type': 'Silence',\n      'instances': [{'confidence': 0.8294,\n        'adjustedStart': '0:00:00',\n        'adjustedEnd': '0:00:01.5',\n        'start': '0:00:00',\n        'end': '0:00:01.5'},\n       {'confidence': 0.8229,\n        'adjustedStart': '0:00:06.02',\n        'adjustedEnd': '0:00:07.02',\n        'start': '0:00:06.02',\n        'end': '0:00:07.02'},\n       {'confidence': 0.7832,\n        'adjustedStart': '0:00:18.58',\n        'adjustedEnd': '0:00:19.58',\n        'start': '0:00:18.58',\n        'end': '0:00:19.58'}]}],\n    'detectedObjects': [{'id': 1,\n      'type': 'PottedPlant',\n      'thumbnailId': 'c06e9abe-4f65-4f99-8166-5c2bff659207',\n      'displayName': 'potted plant',\n      'wikiDataId': 'Q27993793',\n      'instances': [{'confidence': 0.441,\n        'adjustedStart': '0:00:00',\n        'adjustedEnd': '0:00:26.499856',\n        'start': '0:00:00',\n        'end': '0:00:26.499856'}]},\n     {'id': 2,\n      'type': 'Vase',\n      'thumbnailId': '345af8cb-d481-4aee-b8ca-b5387dc627fd',\n      'displayName': 'vase',\n      'wikiDataId': 'Q191851',\n      'instances': [{'confidence': 0.521,\n        'adjustedStart': '0:00:12.730651',\n        'adjustedEnd': '0:00:13.769204',\n        'start': '0:00:12.730651',\n        'end': '0:00:13.769204'}]}],\n    'sentiments': [{'id': 1,\n      'averageScore': 0.5,\n      'sentimentType': 'Neutral',\n      'instances': [{'adjustedStart': '0:00:00',\n        'adjustedEnd': '0:00:07.72',\n        'start': '0:00:00',\n        'end': '0:00:07.72'},\n       {'adjustedStart': '0:00:09.6',\n        'adjustedEnd': '0:00:26.634',\n        'start': '0:00:09.6',\n        'end': '0:00:26.634'}]},\n     {'id': 2,\n      'averageScore': 0.1891,\n      'sentimentType': 'Negative',\n      'instances': [{'adjustedStart': '0:00:07.72',\n        'adjustedEnd': '0:00:09.6',\n        'start': '0:00:07.72',\n        'end': '0:00:09.6'}]}],\n    'emotions': [{'id': 1,\n      'type': 'Anger',\n      'instances': [{'confidence': 0.9455,\n        'adjustedStart': '0:00:07.72',\n        'adjustedEnd': '0:00:09.6',\n        'start': '0:00:07.72',\n        'end': '0:00:09.6'}]}],\n    'blocks': [{'id': 0,\n      'instances': [{'adjustedStart': '0:00:00',\n        'adjustedEnd': '0:00:26.634',\n        'start': '0:00:00',\n        'end': '0:00:26.634'}]}],\n    'speakers': [{'id': 1,\n      'name': 'Speaker #1',\n      'instances': [{'adjustedStart': '0:00:00.68',\n        'adjustedEnd': '0:00:02.32',\n        'start': '0:00:00.68',\n        'end': '0:00:02.32'},\n       {'adjustedStart': '0:00:04.72',\n        'adjustedEnd': '0:00:05.52',\n        'start': '0:00:04.72',\n        'end': '0:00:05.52'}]},\n     {'id': 2,\n      'name': 'Speaker #2',\n      'instances': [{'adjustedStart': '0:00:02.52',\n        'adjustedEnd': '0:00:04.72',\n        'start': '0:00:02.52',\n        'end': '0:00:04.72'},\n       {'adjustedStart': '0:00:07.52',\n        'adjustedEnd': '0:00:07.72',\n        'start': '0:00:07.52',\n        'end': '0:00:07.72'},\n       {'adjustedStart': '0:00:12.44',\n        'adjustedEnd': '0:00:13.44',\n        'start': '0:00:12.44',\n        'end': '0:00:13.44'},\n       {'adjustedStart': '0:00:22.24',\n        'adjustedEnd': '0:00:23.16',\n        'start': '0:00:22.24',\n        'end': '0:00:23.16'}]},\n     {'id': 3,\n      'name': 'Speaker #3',\n      'instances': [{'adjustedStart': '0:00:06.04',\n        'adjustedEnd': '0:00:07.32',\n        'start': '0:00:06.04',\n        'end': '0:00:07.32'},\n       {'adjustedStart': '0:00:13.64',\n        'adjustedEnd': '0:00:14.2',\n        'start': '0:00:13.64',\n        'end': '0:00:14.2'},\n       {'adjustedStart': '0:00:21.76',\n        'adjustedEnd': '0:00:22.24',\n        'start': '0:00:21.76',\n        'end': '0:00:22.24'}]},\n     {'id': 4,\n      'name': 'Speaker #4',\n      'instances': [{'adjustedStart': '0:00:07.72',\n        'adjustedEnd': '0:00:09.6',\n        'start': '0:00:07.72',\n        'end': '0:00:09.6'}]},\n     {'id': 5,\n      'name': 'Speaker #5',\n      'instances': [{'adjustedStart': '0:00:11.56',\n        'adjustedEnd': '0:00:12.12',\n        'start': '0:00:11.56',\n        'end': '0:00:12.12'},\n       {'adjustedStart': '0:00:15.6',\n        'adjustedEnd': '0:00:18.08',\n        'start': '0:00:15.6',\n        'end': '0:00:18.08'},\n       {'adjustedStart': '0:00:20.88',\n        'adjustedEnd': '0:00:21.76',\n        'start': '0:00:20.88',\n        'end': '0:00:21.76'}]},\n     {'id': 6,\n      'name': 'Speaker #6',\n      'instances': [{'adjustedStart': '0:00:19',\n        'adjustedEnd': '0:00:19.56',\n        'start': '0:00:19',\n        'end': '0:00:19.56'},\n       {'adjustedStart': '0:00:23.4',\n        'adjustedEnd': '0:00:24.72',\n        'start': '0:00:23.4',\n        'end': '0:00:24.72'}]}],\n    'textualContentModeration': {'id': 0,\n     'bannedWordsCount': 0,\n     'bannedWordsRatio': 0,\n     'instances': []},\n    'statistics': {'correspondenceCount': 14,\n     'speakerTalkToListenRatio': {'1': 0.145,\n      '2': 0.257,\n      '3': 0.138,\n      '4': 0.112,\n      '5': 0.233,\n      '6': 0.112},\n     'speakerLongestMonolog': {'1': 1, '2': 2, '3': 1, '4': 1, '5': 2, '6': 1},\n     'speakerNumberOfFragments': {'1': 2,\n      '2': 4,\n      '3': 3,\n      '4': 1,\n      '5': 3,\n      '6': 2},\n     'speakerWordCount': {'1': 6, '2': 13, '3': 6, '4': 6, '5': 7, '6': 7}}},\n   'thumbnailId': '7c5f82e3-ea36-4728-a848-9ccdfc106b0a',\n   'width': 1080,\n   'height': 720,\n   'detectSourceLanguage': False,\n   'languageAutoDetectMode': 'None',\n   'sourceLanguage': 'en-US',\n   'sourceLanguages': ['en-US'],\n   'language': 'en-US',\n   'languages': ['en-US'],\n   'indexingPreset': 'Default',\n   'streamingPreset': 'SingleBitrate',\n   'linguisticModelId': '00000000-0000-0000-0000-000000000000',\n   'personModelId': '00000000-0000-0000-0000-000000000000',\n   'logoGroupId': None,\n   'isAdult': False,\n   'excludedAIs': ['Faces', 'Celebrities', 'KnownPeople', 'ShotType'],\n   'isSearchable': True,\n   'publishedUrl': 'https://api.videoindexer.ai/internals/Trial/Accounts/41ebf29d-b736-4769-b64b-2e256097c28b/Videos/mi0tp1p43m/streaming-manifest/manifest.m3u8',\n   'publishedProxyUrl': None,\n   'viewToken': 'eyJhbGciOiJSUzI1NiIsInR5cCI6IkpXVCJ9.eyJWZXJzaW9uIjoiMi4wLjAuMCIsIktleVZlcnNpb24iOiIxNGIwZDg4NTU0OTE0YjkwYjBkYjEwM2M0NmRkYTNkNiIsIkFjY291bnRJZCI6IjQxZWJmMjlkLWI3MzYtNDc2OS1iNjRiLTJlMjU2MDk3YzI4YiIsIkFjY291bnRUeXBlIjoiVHJpYWwiLCJWaWRlb0lkIjoibWkwdHAxcDQzbSIsIlBlcm1pc3Npb24iOiJSZXN0cmljdGVkVmlld2VyIiwiRXh0ZXJuYWxVc2VySWQiOiI5RTc1RDZBMjI5QUM0Q0E2ODBDRjUwODVGREU5N0VGMCIsIlVzZXJUeXBlIjoiTWljcm9zb2Z0Q29ycEFhZCIsIklzc3VlckxvY2F0aW9uIjoiVHJpYWwiLCJuYmYiOjE3Mzk5NjIwNDcsImV4cCI6MTczOTk2NTk0NywiaXNzIjoiaHR0cHM6Ly9hcGkudmlkZW9pbmRleGVyLmFpLyIsImF1ZCI6Imh0dHBzOi8vYXBpLnZpZGVvaW5kZXhlci5haS8ifQ.TlMP0QChcUTct8TpfF5-H0y_IHmOvoUC2-JqE3ya9Ny-IyEl_C8BVtjgHQlZcl-bqQCZHxwasdeMXieivhM0-3gIzEkp-lHz4BdRCXPAT07ZzxhUeP08wGjCrxUUOyq8mjtwMRfWh6hy9fuOrbgzD-pUwR4q7fDuoaDuqj04zvoOLffc2uL6-zHy4GmhCZD6b054l1bV_hm9iUVyOl6Nb5f_nB1GZCYwBrDZweekm3cwDNGNYckrp4tvI6Jqj2WAfF0kxAzv5WyrkfduQGD3w4vP-qTW2uun5MRYOH5fc28JJr7ZsQaBlnDtcR3OI3Y75vvoHExPgRwkwk_WzWHryA'}],\n 'videosRanges': [{'videoId': 'mi0tp1p43m',\n   'range': {'start': '0:00:00', 'end': '0:00:26.634'}}]}"
     },
     "execution_count": 32,
     "metadata": {},
     "output_type": "execute_result"
    }
   ],
   "source": [
    "info"
   ],
   "metadata": {
    "collapsed": false,
    "ExecuteTime": {
     "end_time": "2025-02-19T10:52:29.930520Z",
     "start_time": "2025-02-19T10:52:29.895092Z"
    }
   }
  },
  {
   "cell_type": "markdown",
   "source": [
    "As Azure disabled Face detection in Video Indexer, I sam not able to extract thumbnails https://knowledge.udacity.com/questions/1035894"
   ],
   "metadata": {
    "collapsed": false
   }
  },
  {
   "cell_type": "code",
   "execution_count": 35,
   "outputs": [],
   "source": [
    "sentiments = info['summarizedInsights']['sentiments']"
   ],
   "metadata": {
    "collapsed": false,
    "ExecuteTime": {
     "end_time": "2025-02-19T11:04:31.132971Z",
     "start_time": "2025-02-19T11:04:31.103902Z"
    }
   }
  },
  {
   "cell_type": "code",
   "execution_count": 36,
   "outputs": [
    {
     "data": {
      "text/plain": "[{'sentimentKey': 'Neutral',\n  'seenDurationRatio': 0.9987,\n  'appearances': [{'startTime': '0:00:00',\n    'endTime': '0:00:26.634',\n    'startSeconds': 0,\n    'endSeconds': 26.6}]},\n {'sentimentKey': 'Negative',\n  'seenDurationRatio': 0.0713,\n  'appearances': [{'startTime': '0:00:07.72',\n    'endTime': '0:00:09.6',\n    'startSeconds': 7.7,\n    'endSeconds': 9.6}]}]"
     },
     "execution_count": 36,
     "metadata": {},
     "output_type": "execute_result"
    }
   ],
   "source": [
    "sentiments"
   ],
   "metadata": {
    "collapsed": false,
    "ExecuteTime": {
     "end_time": "2025-02-19T11:04:37.046767Z",
     "start_time": "2025-02-19T11:04:37.023419Z"
    }
   }
  },
  {
   "cell_type": "code",
   "execution_count": 62,
   "outputs": [],
   "source": [
    "from azure.cognitiveservices.vision.face import FaceClient\n",
    "from msrest.authentication import CognitiveServicesCredentials\n",
    "import base64"
   ],
   "metadata": {
    "collapsed": false,
    "ExecuteTime": {
     "end_time": "2025-02-19T13:06:02.855978Z",
     "start_time": "2025-02-19T13:06:02.813520Z"
    }
   }
  },
  {
   "cell_type": "code",
   "execution_count": 63,
   "outputs": [],
   "source": [
    "endpoint = 'https://hfaceapiudct.cognitiveservices.azure.com/'\n",
    "key = 'CuhcMeWEtKnwfvdN6zmBV2yqX5BMMaNrDcaSjFkN8LjjfAKBJPiMJQQJ99BBACYeBjFXJ3w3AAAKACOGccpm'"
   ],
   "metadata": {
    "collapsed": false,
    "ExecuteTime": {
     "end_time": "2025-02-19T13:06:03.267700Z",
     "start_time": "2025-02-19T13:06:03.261389Z"
    }
   }
  },
  {
   "cell_type": "code",
   "execution_count": 69,
   "outputs": [],
   "source": [
    "face_client = FaceClient(endpoint, CognitiveServicesCredentials(key))\n"
   ],
   "metadata": {
    "collapsed": false,
    "ExecuteTime": {
     "end_time": "2025-02-19T13:06:39.175072Z",
     "start_time": "2025-02-19T13:06:39.137162Z"
    }
   }
  },
  {
   "cell_type": "markdown",
   "source": [
    "Face detection from ID"
   ],
   "metadata": {
    "collapsed": false
   }
  },
  {
   "cell_type": "code",
   "execution_count": 79,
   "outputs": [],
   "source": [
    "faces_detected = face_client.face.detect_with_url('https://video.udacity-data.com/topher/2021/July/60f4a427_ca-dl-sample/ca-dl-sample.png')"
   ],
   "metadata": {
    "collapsed": false,
    "ExecuteTime": {
     "end_time": "2025-02-19T13:07:58.777796Z",
     "start_time": "2025-02-19T13:07:58.427002Z"
    }
   }
  },
  {
   "cell_type": "code",
   "execution_count": 80,
   "outputs": [
    {
     "data": {
      "text/plain": "1"
     },
     "execution_count": 80,
     "metadata": {},
     "output_type": "execute_result"
    }
   ],
   "source": [
    "len(faces_detected)"
   ],
   "metadata": {
    "collapsed": false,
    "ExecuteTime": {
     "end_time": "2025-02-19T13:08:45.110893Z",
     "start_time": "2025-02-19T13:08:45.064629Z"
    }
   }
  },
  {
   "cell_type": "code",
   "execution_count": 81,
   "outputs": [
    {
     "data": {
      "text/plain": "'7a7b44de-aa8d-4eaf-9bf8-5f4657735124'"
     },
     "execution_count": 81,
     "metadata": {},
     "output_type": "execute_result"
    }
   ],
   "source": [
    "faces_detected[0].face_id"
   ],
   "metadata": {
    "collapsed": false,
    "ExecuteTime": {
     "end_time": "2025-02-19T13:08:55.882173Z",
     "start_time": "2025-02-19T13:08:55.845141Z"
    }
   }
  },
  {
   "cell_type": "code",
   "execution_count": null,
   "outputs": [],
   "source": [],
   "metadata": {
    "collapsed": false
   }
  }
 ],
 "metadata": {
  "kernelspec": {
   "display_name": "Python 3",
   "language": "python",
   "name": "python3"
  },
  "language_info": {
   "codemirror_mode": {
    "name": "ipython",
    "version": 2
   },
   "file_extension": ".py",
   "mimetype": "text/x-python",
   "name": "python",
   "nbconvert_exporter": "python",
   "pygments_lexer": "ipython2",
   "version": "2.7.6"
  }
 },
 "nbformat": 4,
 "nbformat_minor": 0
}
