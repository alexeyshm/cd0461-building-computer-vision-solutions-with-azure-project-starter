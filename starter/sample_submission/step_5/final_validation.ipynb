{
 "cells": [
  {
   "cell_type": "code",
   "execution_count": 13,
   "metadata": {
    "collapsed": true,
    "ExecuteTime": {
     "end_time": "2025-02-19T14:53:14.515602Z",
     "start_time": "2025-02-19T14:53:14.507755Z"
    }
   },
   "outputs": [],
   "source": [
    "import pandas as pd\n",
    "import datetime as dt"
   ]
  },
  {
   "cell_type": "code",
   "execution_count": 99,
   "outputs": [],
   "source": [
    "validation_file = '../material_preparation_step/FlightManifest.csv'\n",
    "id_file = '../step_2/id_info.json'\n",
    "board_pass_file = '../step_2/pass_info.json'\n",
    "baggage_file = '../step_4/lighters.json'"
   ],
   "metadata": {
    "collapsed": false,
    "ExecuteTime": {
     "end_time": "2025-02-19T15:45:23.669316Z",
     "start_time": "2025-02-19T15:45:23.610032Z"
    }
   }
  },
  {
   "cell_type": "code",
   "execution_count": 108,
   "outputs": [],
   "source": [
    "validation = pd.read_csv(validation_file)"
   ],
   "metadata": {
    "collapsed": false,
    "ExecuteTime": {
     "end_time": "2025-02-19T15:50:01.682140Z",
     "start_time": "2025-02-19T15:50:01.674575Z"
    }
   }
  },
  {
   "cell_type": "code",
   "execution_count": 109,
   "outputs": [
    {
     "data": {
      "text/plain": "   Passanger Name Carrier   Flight No.     Class           From       To  \\\n0    Sameer Kumar       UA         234   Economy  San Francisco  Chicago   \n1  Radha S. Kumar       UA         234   Economy  San Francisco  Chicago   \n2      James Webb       UA         234  Business  San Francisco  Chicago   \n3    Libby Herold       UA         234  Business  San Francisco  Chicago   \n4   James Jackson       UA         234   Economy  San Francisco  Chicago   \n\n             Date Baggage Seat Gate  ... Ticket No.  First Name  Last Name  \\\n0  April 20, 2022     YES  34A   G1  ...   34236746      Sameer      Kumar   \n1  April 20, 2022     YES  34B   G1  ...   34236747       Radha   S. Kumar   \n2  April 20, 2022      No   1A   G1  ...   34236748       James       Webb   \n3  April 20, 2022      No   3D   G1  ...   34236749       Libby     Herold   \n4  April 20, 2022     YES  25B   G1  ...   34236750       James    Jackson   \n\n  Date of Birth Sex NameValidation  DoBValidation  PersonValidation  \\\n0      25.01.90   M          False          False             False   \n1      05.03.94   F          False          False             False   \n2      15.12.70   M          False          False             False   \n3      10.01.96   F          False          False             False   \n4      12.10.56   M          False          False             False   \n\n   BoardingPassValidation  LuggageValidation  \n0                   False              False  \n1                   False              False  \n2                   False              False  \n3                   False              False  \n4                   False              False  \n\n[5 rows x 21 columns]",
      "text/html": "<div>\n<style scoped>\n    .dataframe tbody tr th:only-of-type {\n        vertical-align: middle;\n    }\n\n    .dataframe tbody tr th {\n        vertical-align: top;\n    }\n\n    .dataframe thead th {\n        text-align: right;\n    }\n</style>\n<table border=\"1\" class=\"dataframe\">\n  <thead>\n    <tr style=\"text-align: right;\">\n      <th></th>\n      <th>Passanger Name</th>\n      <th>Carrier</th>\n      <th>Flight No.</th>\n      <th>Class</th>\n      <th>From</th>\n      <th>To</th>\n      <th>Date</th>\n      <th>Baggage</th>\n      <th>Seat</th>\n      <th>Gate</th>\n      <th>...</th>\n      <th>Ticket No.</th>\n      <th>First Name</th>\n      <th>Last Name</th>\n      <th>Date of Birth</th>\n      <th>Sex</th>\n      <th>NameValidation</th>\n      <th>DoBValidation</th>\n      <th>PersonValidation</th>\n      <th>BoardingPassValidation</th>\n      <th>LuggageValidation</th>\n    </tr>\n  </thead>\n  <tbody>\n    <tr>\n      <th>0</th>\n      <td>Sameer Kumar</td>\n      <td>UA</td>\n      <td>234</td>\n      <td>Economy</td>\n      <td>San Francisco</td>\n      <td>Chicago</td>\n      <td>April 20, 2022</td>\n      <td>YES</td>\n      <td>34A</td>\n      <td>G1</td>\n      <td>...</td>\n      <td>34236746</td>\n      <td>Sameer</td>\n      <td>Kumar</td>\n      <td>25.01.90</td>\n      <td>M</td>\n      <td>False</td>\n      <td>False</td>\n      <td>False</td>\n      <td>False</td>\n      <td>False</td>\n    </tr>\n    <tr>\n      <th>1</th>\n      <td>Radha S. Kumar</td>\n      <td>UA</td>\n      <td>234</td>\n      <td>Economy</td>\n      <td>San Francisco</td>\n      <td>Chicago</td>\n      <td>April 20, 2022</td>\n      <td>YES</td>\n      <td>34B</td>\n      <td>G1</td>\n      <td>...</td>\n      <td>34236747</td>\n      <td>Radha</td>\n      <td>S. Kumar</td>\n      <td>05.03.94</td>\n      <td>F</td>\n      <td>False</td>\n      <td>False</td>\n      <td>False</td>\n      <td>False</td>\n      <td>False</td>\n    </tr>\n    <tr>\n      <th>2</th>\n      <td>James Webb</td>\n      <td>UA</td>\n      <td>234</td>\n      <td>Business</td>\n      <td>San Francisco</td>\n      <td>Chicago</td>\n      <td>April 20, 2022</td>\n      <td>No</td>\n      <td>1A</td>\n      <td>G1</td>\n      <td>...</td>\n      <td>34236748</td>\n      <td>James</td>\n      <td>Webb</td>\n      <td>15.12.70</td>\n      <td>M</td>\n      <td>False</td>\n      <td>False</td>\n      <td>False</td>\n      <td>False</td>\n      <td>False</td>\n    </tr>\n    <tr>\n      <th>3</th>\n      <td>Libby Herold</td>\n      <td>UA</td>\n      <td>234</td>\n      <td>Business</td>\n      <td>San Francisco</td>\n      <td>Chicago</td>\n      <td>April 20, 2022</td>\n      <td>No</td>\n      <td>3D</td>\n      <td>G1</td>\n      <td>...</td>\n      <td>34236749</td>\n      <td>Libby</td>\n      <td>Herold</td>\n      <td>10.01.96</td>\n      <td>F</td>\n      <td>False</td>\n      <td>False</td>\n      <td>False</td>\n      <td>False</td>\n      <td>False</td>\n    </tr>\n    <tr>\n      <th>4</th>\n      <td>James Jackson</td>\n      <td>UA</td>\n      <td>234</td>\n      <td>Economy</td>\n      <td>San Francisco</td>\n      <td>Chicago</td>\n      <td>April 20, 2022</td>\n      <td>YES</td>\n      <td>25B</td>\n      <td>G1</td>\n      <td>...</td>\n      <td>34236750</td>\n      <td>James</td>\n      <td>Jackson</td>\n      <td>12.10.56</td>\n      <td>M</td>\n      <td>False</td>\n      <td>False</td>\n      <td>False</td>\n      <td>False</td>\n      <td>False</td>\n    </tr>\n  </tbody>\n</table>\n<p>5 rows × 21 columns</p>\n</div>"
     },
     "execution_count": 109,
     "metadata": {},
     "output_type": "execute_result"
    }
   ],
   "source": [
    "validation"
   ],
   "metadata": {
    "collapsed": false,
    "ExecuteTime": {
     "end_time": "2025-02-19T15:50:03.933063Z",
     "start_time": "2025-02-19T15:50:03.831411Z"
    }
   }
  },
  {
   "cell_type": "code",
   "execution_count": 36,
   "outputs": [],
   "source": [
    "id_dataset = pd.read_json(id_file)\n",
    "bp_dataset = pd.read_json(board_pass_file)"
   ],
   "metadata": {
    "collapsed": false,
    "ExecuteTime": {
     "end_time": "2025-02-19T14:59:58.359735Z",
     "start_time": "2025-02-19T14:59:58.319896Z"
    }
   }
  },
  {
   "cell_type": "code",
   "execution_count": 67,
   "outputs": [],
   "source": [
    "def validate_boarding_pass(passenger, board_pass_dataset):\n",
    "    name_valid = False\n",
    "    bp_validation = False\n",
    "    for i, bpass in board_pass_dataset.iterrows():\n",
    "        if bpass['Name'].replace('.', '') == passenger['Passanger Name'].replace('.', ''):\n",
    "            print('Found boarding pass')\n",
    "            name_valid = True\n",
    "            if bpass['Carrier'].strip() != passenger['Carrier '].strip():\n",
    "                print('Carrier not matching')\n",
    "                break\n",
    "            if str(bpass['Flight']).strip() != str(passenger['Flight No.']).strip():\n",
    "                print('Flight number not matching')\n",
    "                break\n",
    "            if pd.to_datetime(bpass['Date']) != pd.to_datetime(passenger['Date']):\n",
    "                print('Date not matching')\n",
    "                break\n",
    "            if bpass['Seat'].strip() != passenger['Seat'].strip():\n",
    "                print('Seat not matching')\n",
    "                break\n",
    "            if bpass['Class'].strip() != passenger['Class'].strip()[0]:\n",
    "                print('Class not matching')\n",
    "                break\n",
    "            bp_validation = True\n",
    "            break\n",
    "    return name_valid, bp_validation"
   ],
   "metadata": {
    "collapsed": false,
    "ExecuteTime": {
     "end_time": "2025-02-19T15:34:26.156145Z",
     "start_time": "2025-02-19T15:34:26.146292Z"
    }
   }
  },
  {
   "cell_type": "code",
   "execution_count": 68,
   "outputs": [],
   "source": [
    "def validate_face(row):\n",
    "    # Not possible to implement due to API restrictions\n",
    "    return False\n"
   ],
   "metadata": {
    "collapsed": false,
    "ExecuteTime": {
     "end_time": "2025-02-19T15:34:28.296117Z",
     "start_time": "2025-02-19T15:34:28.221077Z"
    }
   }
  },
  {
   "cell_type": "code",
   "execution_count": 69,
   "outputs": [],
   "source": [
    "def validate_baggage(image_name, predictions_data):\n",
    "    # prediction generation is defined in step 4\n",
    "    if image_name not in predictions_data:\n",
    "        return False\n",
    "    object_list = predictions_data[image_name]\n",
    "    for obj in object_list:\n",
    "        if list(obj.keys())[0] == 'lighter' and obj['lighter'] > 0.75:\n",
    "            return True\n",
    "    return False\n"
   ],
   "metadata": {
    "collapsed": false,
    "ExecuteTime": {
     "end_time": "2025-02-19T15:34:28.441279Z",
     "start_time": "2025-02-19T15:34:28.429852Z"
    }
   }
  },
  {
   "cell_type": "code",
   "execution_count": 118,
   "outputs": [],
   "source": [
    "def validate_id(passenger, id_dataset):\n",
    "    name_validation = False\n",
    "    dop_validation = False\n",
    "    for i, row in id_dataset.iterrows():\n",
    "        if row['FirstName'] == passenger['First Name'] and row['LastName'] == passenger['Last Name']:\n",
    "            print('Found ID')\n",
    "            name_validation = True\n",
    "            dop_validation = pd.to_datetime(row['DateOfBirth']) == pd.to_datetime(passenger['Date of Birth'])\n",
    "            break\n",
    "    return (name_validation, dop_validation)\n",
    "\n",
    "\n"
   ],
   "metadata": {
    "collapsed": false,
    "ExecuteTime": {
     "end_time": "2025-02-19T15:53:45.553081Z",
     "start_time": "2025-02-19T15:53:45.522049Z"
    }
   }
  },
  {
   "cell_type": "code",
   "execution_count": 129,
   "outputs": [
    {
     "name": "stdout",
     "output_type": "stream",
     "text": [
      "Validating passenger Sameer Kumar\n",
      "Found ID\n",
      "Found boarding pass\n",
      "Dear Mr. Sameer Kumar,\n",
      "You are welcome to flight # 234 leaving at 10:00 AM PST from San Francisco to Chicago.\n",
      "Your seat number is 34A, and it is confirmed.\n",
      "We have found a prohibited item in your carry-on baggage, and it is flagged for removal.\n",
      "\n",
      "\n",
      "Validating passenger Radha S. Kumar\n",
      "Found boarding pass\n",
      "Dear Sir/Madam,\n",
      "Some of the information on your ID card does not match the flight manifest data, so you cannot board the plane.\n",
      "Please see a customer service representative.\n",
      "\n",
      "\n",
      "Validating passenger James Webb\n",
      "Found ID\n",
      "Found boarding pass\n",
      "Dear Mr. James Webb,\n",
      "You are welcome to flight # 234 leaving at 10:00 AM PST from San Francisco to Chicago.\n",
      "Your seat number is 1A, and it is confirmed.\n",
      "We have found a prohibited item in your carry-on baggage, and it is flagged for removal.\n",
      "\n",
      "\n",
      "Validating passenger Libby Herold\n",
      "Found ID\n",
      "Found boarding pass\n",
      "Dear Ms. Libby Herold,\n",
      "You are welcome to flight # 234 leaving at 10:00 AM PST from San Francisco to Chicago.\n",
      "Your seat number is 3D, and it is confirmed.\n",
      "We have found a prohibited item in your carry-on baggage, and it is flagged for removal.\n",
      "\n",
      "\n",
      "Validating passenger James Jackson\n",
      "Found ID\n",
      "Found boarding pass\n",
      "Dear Mr. James Jackson,\n",
      "You are welcome to flight # 234 leaving at 10:00 AM PST from San Francisco to Chicago.\n",
      "Your seat number is 25B, and it is confirmed.\n",
      "We have found a prohibited item in your carry-on baggage, and it is flagged for removal.\n",
      "\n",
      "\n"
     ]
    }
   ],
   "source": [
    "for i, row in validation.iterrows():\n",
    "    print(f'Validating passenger {row[\"Passanger Name\"]}')\n",
    "    name_id_valid, dop_valid = validate_id(row, id_dataset)\n",
    "    name_bp_valid, bp_valid = validate_boarding_pass(row, bp_dataset)\n",
    "    face_valid = validate_face(row)\n",
    "    baggage_valid = validate_baggage(\"test_image\", {})\n",
    "    msg = None\n",
    "    if name_id_valid and name_bp_valid:\n",
    "        validation.loc[i, 'NameValidation'] = True\n",
    "        if bp_valid:\n",
    "            msg = f\"\"\"Dear {\"Mr.\" if row['Sex'] == 'M' else \"Ms.\"} {row['Passanger Name']},\n",
    "You are welcome to flight # {row['Flight No.']} leaving at {row[\"Boarding Time\"]} from {row.From} to {row.To}.\n",
    "Your seat number is {row['Seat']}, and it is confirmed.\"\"\"\n",
    "        if baggage_valid:\n",
    "            msg += '\\nWe did not find a prohibited item (lighter) in your carry-on baggage, thanks for following the procedure.'\n",
    "        else:\n",
    "            msg += '\\nWe have found a prohibited item in your carry-on baggage, and it is flagged for removal.'\n",
    "        if face_valid:\n",
    "            msg += '\\nYour identity is verified so please board the plane. '\n",
    "\n",
    "    if not (name_id_valid and dop_valid):\n",
    "        msg = \"\"\"Dear Sir/Madam,\n",
    "Some of the information on your ID card does not match the flight manifest data, so you cannot board the plane.\n",
    "Please see a customer service representative.\"\"\"\n",
    "\n",
    "    if not bp_valid:\n",
    "        msg = \"\"\"Dear Sir/Madam,\n",
    "Some of the information in your boarding pass does not match the flight manifest data, so you cannot board the plane.\n",
    "Please see a customer service representative.\"\"\"\n",
    "\n",
    "    validation.loc[i, 'DoBValidation'] = dop_valid\n",
    "    validation.loc[i, 'BoardingPassValidation'] = bp_valid\n",
    "    validation.loc[i, 'PersonValidation'] = face_valid\n",
    "    validation.loc[i, 'BaggageValidation'] = baggage_valid\n",
    "    if msg:\n",
    "        print(msg + '\\n\\n')\n"
   ],
   "metadata": {
    "collapsed": false,
    "ExecuteTime": {
     "end_time": "2025-02-19T16:06:11.575661Z",
     "start_time": "2025-02-19T16:06:11.572788Z"
    }
   }
  },
  {
   "cell_type": "code",
   "execution_count": 125,
   "outputs": [
    {
     "data": {
      "text/plain": "   Passanger Name Carrier   Flight No.     Class           From       To  \\\n0    Sameer Kumar       UA         234   Economy  San Francisco  Chicago   \n1  Radha S. Kumar       UA         234   Economy  San Francisco  Chicago   \n2      James Webb       UA         234  Business  San Francisco  Chicago   \n3    Libby Herold       UA         234  Business  San Francisco  Chicago   \n4   James Jackson       UA         234   Economy  San Francisco  Chicago   \n\n             Date Baggage Seat Gate  ... First Name  Last Name Date of Birth  \\\n0  April 20, 2022     YES  34A   G1  ...     Sameer      Kumar      25.01.90   \n1  April 20, 2022     YES  34B   G1  ...      Radha   S. Kumar      05.03.94   \n2  April 20, 2022      No   1A   G1  ...      James       Webb      15.12.70   \n3  April 20, 2022      No   3D   G1  ...      Libby     Herold      10.01.96   \n4  April 20, 2022     YES  25B   G1  ...      James    Jackson      12.10.56   \n\n  Sex NameValidation DoBValidation  PersonValidation  BoardingPassValidation  \\\n0   M           True          True             False                    True   \n1   F          False         False             False                    True   \n2   M           True          True             False                    True   \n3   F           True          True             False                    True   \n4   M           True          True             False                    True   \n\n   LuggageValidation  BaggageValidation  \n0              False              False  \n1              False              False  \n2              False              False  \n3              False              False  \n4              False              False  \n\n[5 rows x 22 columns]",
      "text/html": "<div>\n<style scoped>\n    .dataframe tbody tr th:only-of-type {\n        vertical-align: middle;\n    }\n\n    .dataframe tbody tr th {\n        vertical-align: top;\n    }\n\n    .dataframe thead th {\n        text-align: right;\n    }\n</style>\n<table border=\"1\" class=\"dataframe\">\n  <thead>\n    <tr style=\"text-align: right;\">\n      <th></th>\n      <th>Passanger Name</th>\n      <th>Carrier</th>\n      <th>Flight No.</th>\n      <th>Class</th>\n      <th>From</th>\n      <th>To</th>\n      <th>Date</th>\n      <th>Baggage</th>\n      <th>Seat</th>\n      <th>Gate</th>\n      <th>...</th>\n      <th>First Name</th>\n      <th>Last Name</th>\n      <th>Date of Birth</th>\n      <th>Sex</th>\n      <th>NameValidation</th>\n      <th>DoBValidation</th>\n      <th>PersonValidation</th>\n      <th>BoardingPassValidation</th>\n      <th>LuggageValidation</th>\n      <th>BaggageValidation</th>\n    </tr>\n  </thead>\n  <tbody>\n    <tr>\n      <th>0</th>\n      <td>Sameer Kumar</td>\n      <td>UA</td>\n      <td>234</td>\n      <td>Economy</td>\n      <td>San Francisco</td>\n      <td>Chicago</td>\n      <td>April 20, 2022</td>\n      <td>YES</td>\n      <td>34A</td>\n      <td>G1</td>\n      <td>...</td>\n      <td>Sameer</td>\n      <td>Kumar</td>\n      <td>25.01.90</td>\n      <td>M</td>\n      <td>True</td>\n      <td>True</td>\n      <td>False</td>\n      <td>True</td>\n      <td>False</td>\n      <td>False</td>\n    </tr>\n    <tr>\n      <th>1</th>\n      <td>Radha S. Kumar</td>\n      <td>UA</td>\n      <td>234</td>\n      <td>Economy</td>\n      <td>San Francisco</td>\n      <td>Chicago</td>\n      <td>April 20, 2022</td>\n      <td>YES</td>\n      <td>34B</td>\n      <td>G1</td>\n      <td>...</td>\n      <td>Radha</td>\n      <td>S. Kumar</td>\n      <td>05.03.94</td>\n      <td>F</td>\n      <td>False</td>\n      <td>False</td>\n      <td>False</td>\n      <td>True</td>\n      <td>False</td>\n      <td>False</td>\n    </tr>\n    <tr>\n      <th>2</th>\n      <td>James Webb</td>\n      <td>UA</td>\n      <td>234</td>\n      <td>Business</td>\n      <td>San Francisco</td>\n      <td>Chicago</td>\n      <td>April 20, 2022</td>\n      <td>No</td>\n      <td>1A</td>\n      <td>G1</td>\n      <td>...</td>\n      <td>James</td>\n      <td>Webb</td>\n      <td>15.12.70</td>\n      <td>M</td>\n      <td>True</td>\n      <td>True</td>\n      <td>False</td>\n      <td>True</td>\n      <td>False</td>\n      <td>False</td>\n    </tr>\n    <tr>\n      <th>3</th>\n      <td>Libby Herold</td>\n      <td>UA</td>\n      <td>234</td>\n      <td>Business</td>\n      <td>San Francisco</td>\n      <td>Chicago</td>\n      <td>April 20, 2022</td>\n      <td>No</td>\n      <td>3D</td>\n      <td>G1</td>\n      <td>...</td>\n      <td>Libby</td>\n      <td>Herold</td>\n      <td>10.01.96</td>\n      <td>F</td>\n      <td>True</td>\n      <td>True</td>\n      <td>False</td>\n      <td>True</td>\n      <td>False</td>\n      <td>False</td>\n    </tr>\n    <tr>\n      <th>4</th>\n      <td>James Jackson</td>\n      <td>UA</td>\n      <td>234</td>\n      <td>Economy</td>\n      <td>San Francisco</td>\n      <td>Chicago</td>\n      <td>April 20, 2022</td>\n      <td>YES</td>\n      <td>25B</td>\n      <td>G1</td>\n      <td>...</td>\n      <td>James</td>\n      <td>Jackson</td>\n      <td>12.10.56</td>\n      <td>M</td>\n      <td>True</td>\n      <td>True</td>\n      <td>False</td>\n      <td>True</td>\n      <td>False</td>\n      <td>False</td>\n    </tr>\n  </tbody>\n</table>\n<p>5 rows × 22 columns</p>\n</div>"
     },
     "execution_count": 125,
     "metadata": {},
     "output_type": "execute_result"
    }
   ],
   "source": [
    "validation"
   ],
   "metadata": {
    "collapsed": false,
    "ExecuteTime": {
     "end_time": "2025-02-19T16:03:20.123530Z",
     "start_time": "2025-02-19T16:03:20.111185Z"
    }
   }
  },
  {
   "cell_type": "code",
   "execution_count": null,
   "outputs": [],
   "source": [],
   "metadata": {
    "collapsed": false
   }
  }
 ],
 "metadata": {
  "kernelspec": {
   "display_name": "Python 3",
   "language": "python",
   "name": "python3"
  },
  "language_info": {
   "codemirror_mode": {
    "name": "ipython",
    "version": 2
   },
   "file_extension": ".py",
   "mimetype": "text/x-python",
   "name": "python",
   "nbconvert_exporter": "python",
   "pygments_lexer": "ipython2",
   "version": "2.7.6"
  }
 },
 "nbformat": 4,
 "nbformat_minor": 0
}
